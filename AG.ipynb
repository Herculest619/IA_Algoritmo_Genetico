{
  "cells": [
    {
      "cell_type": "markdown",
      "metadata": {
        "id": "sdboJy_JOq6B"
      },
      "source": [
        "# Genetic Algorithm (Global Search) - 8 Queens Problem\n"
      ]
    },
    {
      "cell_type": "code",
      "execution_count": null,
      "metadata": {
        "id": "Fk7gp0rlOq6F"
      },
      "outputs": [],
      "source": [
        "# Constants, experiment parameters\n",
        "NUM_QUEENS = 8\n",
        "POPULATION_SIZE = 10\n",
        "MIXING_NUMBER = 2\n",
        "MUTATION_RATE = 0.05"
      ]
    },
    {
      "cell_type": "markdown",
      "metadata": {
        "id": "qB0EzOhlOq6G"
      },
      "source": [
        "### Functions"
      ]
    },
    {
      "cell_type": "code",
      "execution_count": null,
      "metadata": {
        "id": "USkJ-0LsOq6G"
      },
      "outputs": [],
      "source": [
        "# Create the fitness score - How good is a solution?\n",
        "def fitness_score(seq):\n",
        "    score = 0\n",
        "\n",
        "    for row in range(NUM_QUEENS):\n",
        "        col = seq[row]\n",
        "\n",
        "        for other_row in range(NUM_QUEENS):\n",
        "\n",
        "            #queens cannot pair with itself\n",
        "            if other_row == row:\n",
        "                continue\n",
        "            if seq[other_row] == col:\n",
        "                continue\n",
        "            if other_row + seq[other_row] == row + col:\n",
        "                continue\n",
        "            if other_row - seq[other_row] == row - col:\n",
        "                continue\n",
        "            #score++ if every pair of queens are non-attacking.\n",
        "            score += 1\n",
        "\n",
        "    #divide by 2 as pairs of queens are commutative\n",
        "    return score/2\n"
      ]
    },
    {
      "cell_type": "code",
      "execution_count": null,
      "metadata": {
        "id": "9jpei55dOq6H"
      },
      "outputs": [],
      "source": []
    },
    {
      "cell_type": "code",
      "execution_count": null,
      "metadata": {
        "id": "ccwOjBOeOq6H"
      },
      "outputs": [],
      "source": [
        "# Create the crossover operator\n",
        "# Combine features of each solution using a crossover point\n",
        "import itertools\n",
        "def crossover(parents):\n",
        "\n",
        "    #random indexes to to cross states with\n",
        "    cross_points = random.sample(range(NUM_QUEENS), MIXING_NUMBER - 1)\n",
        "    offsprings = []\n",
        "\n",
        "    #all permutations of parents\n",
        "    permutations = list(itertools.permutations(parents, MIXING_NUMBER))\n",
        "\n",
        "    for perm in permutations:\n",
        "        offspring = []\n",
        "\n",
        "        #track starting index of sublist\n",
        "        start_pt = 0\n",
        "\n",
        "        for parent_idx, cross_point in enumerate(cross_points): #doesn't account for last parent\n",
        "\n",
        "            #sublist of parent to be crossed\n",
        "            parent_part = perm[parent_idx][start_pt:cross_point]\n",
        "            offspring.append(parent_part)\n",
        "\n",
        "            #update index pointer\n",
        "            start_pt = cross_point\n",
        "\n",
        "        #last parent\n",
        "        last_parent = perm[-1]\n",
        "        parent_part = last_parent[cross_point:]\n",
        "        offspring.append(parent_part)\n",
        "\n",
        "        #flatten the list since append works kinda differently\n",
        "        offsprings.append(list(itertools.chain(*offspring)))\n",
        "\n",
        "    return offsprings"
      ]
    },
    {
      "cell_type": "code",
      "execution_count": null,
      "metadata": {
        "id": "kGzLTh7MOq6H"
      },
      "outputs": [],
      "source": [
        "# Create the routine to mutate a solution\n",
        "# A operator to create diversity in the population\n",
        "def mutate(seq):\n",
        "    for row in range(len(seq)):\n",
        "        if random.random() < MUTATION_RATE:\n",
        "            seq[row] = random.randrange(NUM_QUEENS)\n",
        "\n",
        "    return seq"
      ]
    },
    {
      "cell_type": "code",
      "execution_count": null,
      "metadata": {
        "id": "85PmeSLsOq6I"
      },
      "outputs": [],
      "source": [
        "# Print the solution\n",
        "def print_found_goal(population, to_print=True):\n",
        "    for ind in population:\n",
        "        score = fitness_score(ind)\n",
        "        if to_print:\n",
        "            print(f'{ind}. Score: {score}')\n",
        "        if score == sc.comb(NUM_QUEENS, 2):\n",
        "            if to_print:\n",
        "                print('Solution found')\n",
        "            return True\n",
        "\n",
        "    if to_print:\n",
        "        print('Solution not found')\n",
        "    return False"
      ]
    },
    {
      "cell_type": "code",
      "execution_count": null,
      "metadata": {
        "id": "JGdxsyqsOq6I",
        "scrolled": true
      },
      "outputs": [],
      "source": [
        "# Create the routine to implement the evolution\n",
        "def evolution(population):\n",
        "    #select individuals to become parents\n",
        "    parents = selection(population)\n",
        "\n",
        "    #recombination. Create new offsprings\n",
        "    offsprings = crossover(parents)\n",
        "\n",
        "    #mutation\n",
        "    offsprings = list(map(mutate, offsprings))\n",
        "\n",
        "    #introduce top-scoring individuals from previous generation and keep top fitness individuals\n",
        "    new_gen = offsprings\n",
        "\n",
        "    for ind in population:\n",
        "        new_gen.append(ind)\n",
        "\n",
        "    new_gen = sorted(new_gen, key=lambda ind: fitness_score(ind), reverse=True)[:POPULATION_SIZE]\n",
        "\n",
        "    return new_gen\n"
      ]
    },
    {
      "cell_type": "code",
      "execution_count": null,
      "metadata": {
        "id": "n0fvVV9iOq6I"
      },
      "outputs": [],
      "source": [
        "# Create the initial population (solutions)\n",
        "def generate_population():\n",
        "    population = []\n",
        "\n",
        "    for individual in range(POPULATION_SIZE):\n",
        "        new = [random.randrange(NUM_QUEENS) for idx in range(NUM_QUEENS)]\n",
        "        population.append(new)\n",
        "\n",
        "    return population"
      ]
    },
    {
      "cell_type": "markdown",
      "metadata": {
        "id": "YjO_R7V6Oq6J"
      },
      "source": [
        "### Running the experiment"
      ]
    },
    {
      "cell_type": "code",
      "execution_count": null,
      "metadata": {
        "colab": {
          "base_uri": "https://localhost:8080/"
        },
        "id": "AH85SufgOq6J",
        "outputId": "6c173963-b874-46a8-dbcb-0b064bd3dbe0"
      },
      "outputs": [],
      "source": [
        "#Running the experiment\n",
        "\n",
        "generation = 0\n",
        "\n",
        "# Generate Random Population\n",
        "population = generate_population()\n",
        "\n",
        "# Generations until found the solution\n",
        "while not print_found_goal(population):\n",
        "    print(f'Generation: {generation}')\n",
        "    print_found_goal(population)\n",
        "    population = evolution(population)\n",
        "    generation += 1"
      ]
    }
  ],
  "metadata": {
    "colab": {
      "provenance": []
    },
    "kernelspec": {
      "display_name": "Python 3",
      "language": "python",
      "name": "python3"
    },
    "language_info": {
      "codemirror_mode": {
        "name": "ipython",
        "version": 3
      },
      "file_extension": ".py",
      "mimetype": "text/x-python",
      "name": "python",
      "nbconvert_exporter": "python",
      "pygments_lexer": "ipython3",
      "version": "3.7.4"
    }
  },
  "nbformat": 4,
  "nbformat_minor": 0
}
